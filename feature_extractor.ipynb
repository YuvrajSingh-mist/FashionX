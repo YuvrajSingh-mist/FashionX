{
 "cells": [
  {
   "cell_type": "code",
   "execution_count": 1,
   "id": "6661f496-c2c1-4eb5-857a-5accbaea01bc",
   "metadata": {
    "tags": []
   },
   "outputs": [
    {
     "name": "stderr",
     "output_type": "stream",
     "text": [
      "2023-10-26 22:07:51.148334: I tensorflow/core/util/port.cc:110] oneDNN custom operations are on. You may see slightly different numerical results due to floating-point round-off errors from different computation orders. To turn them off, set the environment variable `TF_ENABLE_ONEDNN_OPTS=0`.\n",
      "2023-10-26 22:07:51.149846: I tensorflow/tsl/cuda/cudart_stub.cc:28] Could not find cuda drivers on your machine, GPU will not be used.\n",
      "2023-10-26 22:07:51.185480: I tensorflow/tsl/cuda/cudart_stub.cc:28] Could not find cuda drivers on your machine, GPU will not be used.\n",
      "2023-10-26 22:07:51.186163: I tensorflow/core/platform/cpu_feature_guard.cc:182] This TensorFlow binary is optimized to use available CPU instructions in performance-critical operations.\n",
      "To enable the following instructions: AVX2 AVX512F AVX512_VNNI FMA, in other operations, rebuild TensorFlow with the appropriate compiler flags.\n",
      "2023-10-26 22:07:57.243257: W tensorflow/compiler/tf2tensorrt/utils/py_utils.cc:38] TF-TRT Warning: Could not find TensorRT\n"
     ]
    }
   ],
   "source": [
    "import tensorflow as tf\n",
    "import keras\n",
    "import pandas\n",
    "import cv2\n",
    "from tensorflow.keras.applications.vgg16 import VGG16\n",
    "from tensorflow.keras.applications.resnet50 import preprocess_input\n",
    "from tensorflow import expand_dims\n",
    "import gc"
   ]
  },
  {
   "cell_type": "code",
   "execution_count": 2,
   "id": "33ee8fee-386f-4faf-9967-867d91fca9ca",
   "metadata": {
    "tags": []
   },
   "outputs": [],
   "source": [
    "vgg16 = VGG16(include_top=False, weights='imagenet', input_shape=(224,224, 3), pooling='avg')"
   ]
  },
  {
   "cell_type": "code",
   "execution_count": 3,
   "id": "f92ec03e-3c74-44e9-a856-0a007449bc4b",
   "metadata": {
    "tags": []
   },
   "outputs": [],
   "source": [
    "import pickle\n",
    "from tqdm import tqdm\n",
    "import os"
   ]
  },
  {
   "cell_type": "code",
   "execution_count": 4,
   "id": "414cf6e3-061d-46e3-a5cb-51ac1cc0cb05",
   "metadata": {
    "tags": []
   },
   "outputs": [],
   "source": [
    "def preprocess(img):\n",
    "    image = cv2.imread(img)\n",
    "    image = cv2.resize(image,(224, 224))\n",
    "    exp_image = expand_dims(image, axis=0)\n",
    "    preprocessed_image = preprocess_input(exp_image)\n",
    "    return preprocessed_image"
   ]
  },
  {
   "cell_type": "code",
   "execution_count": 5,
   "id": "fa9b3895-4c64-4646-bce4-18e5b1c133ce",
   "metadata": {
    "tags": []
   },
   "outputs": [
    {
     "name": "stdout",
     "output_type": "stream",
     "text": [
      "runs/detect/predict/crops/shoe/\n"
     ]
    }
   ],
   "source": [
    "print('runs/detect/predict/crops/{}/'.format('shoe'))"
   ]
  },
  {
   "cell_type": "code",
   "execution_count": 5,
   "id": "438e4b28-2c00-4746-9258-41621dfe9de7",
   "metadata": {
    "tags": []
   },
   "outputs": [],
   "source": [
    "ls = pickle.load(open('features.pkl', 'rb'))"
   ]
  },
  {
   "cell_type": "code",
   "execution_count": 6,
   "id": "e437b43c-f953-4a8a-999a-8bb9b8629878",
   "metadata": {
    "tags": []
   },
   "outputs": [
    {
     "data": {
      "text/plain": [
       "116"
      ]
     },
     "execution_count": 6,
     "metadata": {},
     "output_type": "execute_result"
    }
   ],
   "source": [
    "gc.collect()"
   ]
  },
  {
   "cell_type": "code",
   "execution_count": 14,
   "id": "18e656bf-3276-4540-b983-5805e879d970",
   "metadata": {},
   "outputs": [],
   "source": [
    "ls = []"
   ]
  },
  {
   "cell_type": "code",
   "execution_count": 8,
   "id": "7dd02cbd-3e23-484c-8872-2a91075af431",
   "metadata": {
    "tags": []
   },
   "outputs": [
    {
     "name": "stderr",
     "output_type": "stream",
     "text": [
      "100%|██████████| 17169/17169 [1:20:48<00:00,  3.54it/s]\n"
     ]
    }
   ],
   "source": [
    "i = 'shirt'\n",
    "for files in tqdm(os.listdir('runs/detect/predict/crops/{}/'.format(i))):\n",
    "    image=preprocess('runs/detect/predict/crops/{}/'.format(i) + files)\n",
    "    features = vgg16.predict(image, verbose=False).flatten()\n",
    "    ls.append((features, files.split('.')[0]))\n",
    "    gc.collect()"
   ]
  },
  {
   "cell_type": "code",
   "execution_count": null,
   "id": "79b4c079-3107-425a-a54d-24bedf6c8d19",
   "metadata": {
    "tags": []
   },
   "outputs": [],
   "source": [
    "ls[0]"
   ]
  },
  {
   "cell_type": "code",
   "execution_count": 9,
   "id": "c84c2685-9609-406c-b71a-d279eefb6054",
   "metadata": {},
   "outputs": [],
   "source": [
    "pickle.dump(ls, open('features.pkl', 'wb'))"
   ]
  },
  {
   "cell_type": "code",
   "execution_count": 10,
   "id": "4a391808-9261-49e2-ab04-0b1040a75020",
   "metadata": {},
   "outputs": [
    {
     "data": {
      "text/plain": [
       "55995"
      ]
     },
     "execution_count": 10,
     "metadata": {},
     "output_type": "execute_result"
    }
   ],
   "source": [
    "len(ls)"
   ]
  },
  {
   "cell_type": "code",
   "execution_count": 11,
   "id": "373769ab-478f-4e89-ab0c-80ed915dbc6b",
   "metadata": {},
   "outputs": [],
   "source": [
    "import joblib"
   ]
  },
  {
   "cell_type": "code",
   "execution_count": 12,
   "id": "dc20bc4e-24b6-4eb8-8689-b98f5e075092",
   "metadata": {
    "tags": []
   },
   "outputs": [
    {
     "data": {
      "text/plain": [
       "['features.joblib']"
      ]
     },
     "execution_count": 12,
     "metadata": {},
     "output_type": "execute_result"
    }
   ],
   "source": [
    "joblib.dump(ls, 'features.joblib')"
   ]
  },
  {
   "cell_type": "code",
   "execution_count": null,
   "id": "6cf737aa-5af5-4593-b7a6-a7022c7e9fdf",
   "metadata": {},
   "outputs": [],
   "source": []
  }
 ],
 "metadata": {
  "kernelspec": {
   "display_name": "Python 3 (ipykernel)",
   "language": "python",
   "name": "python3"
  },
  "language_info": {
   "codemirror_mode": {
    "name": "ipython",
    "version": 3
   },
   "file_extension": ".py",
   "mimetype": "text/x-python",
   "name": "python",
   "nbconvert_exporter": "python",
   "pygments_lexer": "ipython3",
   "version": "3.8.17"
  }
 },
 "nbformat": 4,
 "nbformat_minor": 5
}
