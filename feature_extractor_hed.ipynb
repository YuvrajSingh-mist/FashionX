{
 "cells": [
  {
   "cell_type": "code",
   "execution_count": 7,
   "id": "3d4002b6-e8ab-450b-8995-df684f4d1ef6",
   "metadata": {
    "tags": []
   },
   "outputs": [],
   "source": [
    "import cv2\n",
    "import numpy as np\n",
    "import os\n",
    "from tqdm import tqdm"
   ]
  },
  {
   "cell_type": "code",
   "execution_count": 2,
   "id": "4f5f9d4b-3ab2-4ca7-abb1-36ec2b0ec257",
   "metadata": {
    "tags": []
   },
   "outputs": [],
   "source": [
    "protoPath = 'deploy.prototxt'\n",
    "modelPath = 'hed_pretrained_bsds.caffemodel'"
   ]
  },
  {
   "cell_type": "code",
   "execution_count": 3,
   "id": "447d8896-6587-48eb-9f16-0559f1b638a9",
   "metadata": {
    "tags": []
   },
   "outputs": [],
   "source": [
    "net = cv2.dnn.readNetFromCaffe(protoPath, modelPath)"
   ]
  },
  {
   "cell_type": "code",
   "execution_count": 1,
   "id": "b5676454-dcdf-42a5-a038-f7356171308d",
   "metadata": {
    "tags": []
   },
   "outputs": [],
   "source": [
    "import gc"
   ]
  },
  {
   "cell_type": "code",
   "execution_count": 5,
   "id": "9b8cead6-eb6b-41dc-b5d1-66f0d71ea40b",
   "metadata": {
    "tags": []
   },
   "outputs": [],
   "source": [
    "i='bag'"
   ]
  },
  {
   "cell_type": "code",
   "execution_count": 23,
   "id": "154442ca-03ae-443f-a6ce-fe4448e5951a",
   "metadata": {},
   "outputs": [
    {
     "name": "stderr",
     "output_type": "stream",
     "text": [
      "  0%|          | 0/61 [00:00<?, ?it/s]"
     ]
    },
    {
     "name": "stdout",
     "output_type": "stream",
     "text": [
      "25131.jpg\n"
     ]
    },
    {
     "name": "stderr",
     "output_type": "stream",
     "text": [
      "  2%|▏         | 1/61 [00:00<00:24,  2.50it/s]"
     ]
    },
    {
     "name": "stdout",
     "output_type": "stream",
     "text": [
      "25321.jpg\n"
     ]
    },
    {
     "name": "stderr",
     "output_type": "stream",
     "text": [
      "  3%|▎         | 2/61 [00:00<00:19,  2.99it/s]"
     ]
    },
    {
     "name": "stdout",
     "output_type": "stream",
     "text": [
      "25288.jpg\n"
     ]
    },
    {
     "name": "stderr",
     "output_type": "stream",
     "text": [
      "  5%|▍         | 3/61 [00:00<00:18,  3.15it/s]"
     ]
    },
    {
     "name": "stdout",
     "output_type": "stream",
     "text": [
      "19105.jpg\n"
     ]
    },
    {
     "name": "stderr",
     "output_type": "stream",
     "text": [
      "  7%|▋         | 4/61 [00:01<00:19,  2.98it/s]"
     ]
    },
    {
     "name": "stdout",
     "output_type": "stream",
     "text": [
      "19347.jpg\n"
     ]
    },
    {
     "name": "stderr",
     "output_type": "stream",
     "text": [
      "  8%|▊         | 5/61 [00:01<00:17,  3.12it/s]"
     ]
    },
    {
     "name": "stdout",
     "output_type": "stream",
     "text": [
      "25326.jpg\n"
     ]
    },
    {
     "name": "stderr",
     "output_type": "stream",
     "text": [
      " 10%|▉         | 6/61 [00:01<00:15,  3.47it/s]"
     ]
    },
    {
     "name": "stdout",
     "output_type": "stream",
     "text": [
      "25085.jpg\n"
     ]
    },
    {
     "name": "stderr",
     "output_type": "stream",
     "text": [
      " 13%|█▎        | 8/61 [00:02<00:13,  3.95it/s]"
     ]
    },
    {
     "name": "stdout",
     "output_type": "stream",
     "text": [
      "25038.jpg\n",
      "19077.jpg\n"
     ]
    },
    {
     "name": "stderr",
     "output_type": "stream",
     "text": [
      " 15%|█▍        | 9/61 [00:02<00:12,  4.19it/s]"
     ]
    },
    {
     "name": "stdout",
     "output_type": "stream",
     "text": [
      "19362.jpg\n"
     ]
    },
    {
     "name": "stderr",
     "output_type": "stream",
     "text": [
      " 18%|█▊        | 11/61 [00:02<00:11,  4.47it/s]"
     ]
    },
    {
     "name": "stdout",
     "output_type": "stream",
     "text": [
      "19122.jpg\n",
      "1644.jpg\n"
     ]
    },
    {
     "name": "stderr",
     "output_type": "stream",
     "text": [
      " 20%|█▉        | 12/61 [00:03<00:10,  4.55it/s]"
     ]
    },
    {
     "name": "stdout",
     "output_type": "stream",
     "text": [
      "25363.jpg\n"
     ]
    },
    {
     "name": "stderr",
     "output_type": "stream",
     "text": [
      " 21%|██▏       | 13/61 [00:03<00:10,  4.60it/s]"
     ]
    },
    {
     "name": "stdout",
     "output_type": "stream",
     "text": [
      "25177.jpg\n"
     ]
    },
    {
     "name": "stderr",
     "output_type": "stream",
     "text": [
      " 23%|██▎       | 14/61 [00:03<00:10,  4.62it/s]"
     ]
    },
    {
     "name": "stdout",
     "output_type": "stream",
     "text": [
      "14693.jpg\n"
     ]
    },
    {
     "name": "stderr",
     "output_type": "stream",
     "text": [
      " 25%|██▍       | 15/61 [00:03<00:09,  4.67it/s]"
     ]
    },
    {
     "name": "stdout",
     "output_type": "stream",
     "text": [
      "252002.jpg\n"
     ]
    },
    {
     "name": "stderr",
     "output_type": "stream",
     "text": [
      " 26%|██▌       | 16/61 [00:04<00:10,  4.33it/s]"
     ]
    },
    {
     "name": "stdout",
     "output_type": "stream",
     "text": [
      "120302.jpg\n"
     ]
    },
    {
     "name": "stderr",
     "output_type": "stream",
     "text": [
      " 28%|██▊       | 17/61 [00:04<00:10,  4.15it/s]"
     ]
    },
    {
     "name": "stdout",
     "output_type": "stream",
     "text": [
      "19321.jpg\n"
     ]
    },
    {
     "name": "stderr",
     "output_type": "stream",
     "text": [
      " 30%|██▉       | 18/61 [00:04<00:10,  4.17it/s]"
     ]
    },
    {
     "name": "stdout",
     "output_type": "stream",
     "text": [
      "25132.jpg\n"
     ]
    },
    {
     "name": "stderr",
     "output_type": "stream",
     "text": [
      " 31%|███       | 19/61 [00:04<00:10,  4.11it/s]"
     ]
    },
    {
     "name": "stdout",
     "output_type": "stream",
     "text": [
      "25044.jpg\n"
     ]
    },
    {
     "name": "stderr",
     "output_type": "stream",
     "text": [
      " 31%|███       | 19/61 [00:05<00:11,  3.78it/s]\n"
     ]
    },
    {
     "ename": "KeyboardInterrupt",
     "evalue": "",
     "output_type": "error",
     "traceback": [
      "\u001b[0;31m---------------------------------------------------------------------------\u001b[0m",
      "\u001b[0;31mKeyboardInterrupt\u001b[0m                         Traceback (most recent call last)",
      "Cell \u001b[0;32mIn[23], line 17\u001b[0m\n\u001b[1;32m     15\u001b[0m hed \u001b[38;5;241m=\u001b[39m (\u001b[38;5;241m255\u001b[39m \u001b[38;5;241m*\u001b[39m hed)\u001b[38;5;241m.\u001b[39mastype(\u001b[38;5;124m\"\u001b[39m\u001b[38;5;124muint8\u001b[39m\u001b[38;5;124m\"\u001b[39m)\n\u001b[1;32m     16\u001b[0m cv2\u001b[38;5;241m.\u001b[39mimwrite(\u001b[38;5;124m'\u001b[39m\u001b[38;5;124mhed_images/\u001b[39m\u001b[38;5;124m'\u001b[39m \u001b[38;5;241m+\u001b[39m img, hed)\n\u001b[0;32m---> 17\u001b[0m \u001b[43mgc\u001b[49m\u001b[38;5;241;43m.\u001b[39;49m\u001b[43mcollect\u001b[49m\u001b[43m(\u001b[49m\u001b[43m)\u001b[49m\n",
      "\u001b[0;31mKeyboardInterrupt\u001b[0m: "
     ]
    }
   ],
   "source": [
    "for img in tqdm(os.listdir('runs/detect/predict/crops/{}/'.format(i))):\n",
    "    print(img)\n",
    "    image = cv2.imread('runs/detect/predict/crops/{}/'.format(i) + img)\n",
    "    # H, W = image.shape[0], image.shape[1]\n",
    "    image = cv2.resize(image, (224,224))\n",
    "    mean_pixel_values= np.average(image, axis = (0,1))\n",
    "    blob = cv2.dnn.blobFromImage(image, scalefactor=0.77, size=(224, 224),\n",
    "                                 mean=(mean_pixel_values[0], mean_pixel_values[1], mean_pixel_values[2]),\n",
    "                                 # mean=(105, 117, 123),\n",
    "                                 swapRB= False,\n",
    "                                 crop=True)\n",
    "    net.setInput(blob)\n",
    "    hed = net.forward()\n",
    "    hed = hed[0,0,:,:]\n",
    "    hed = (255 * hed).astype(\"uint8\")\n",
    "    cv2.imwrite('hed_images/' + img, hed)\n",
    "    gc.collect()"
   ]
  },
  {
   "cell_type": "code",
   "execution_count": 7,
   "id": "42784c43-b73b-4bba-b578-fc25b376df21",
   "metadata": {
    "tags": []
   },
   "outputs": [],
   "source": [
    "#Extracting features"
   ]
  },
  {
   "cell_type": "code",
   "execution_count": 2,
   "id": "82f5b2a1-5163-4fab-8202-10be42a54c17",
   "metadata": {
    "collapsed": true,
    "jupyter": {
     "outputs_hidden": true
    },
    "tags": []
   },
   "outputs": [
    {
     "name": "stderr",
     "output_type": "stream",
     "text": [
      "2023-10-27 17:35:46.666999: I tensorflow/core/util/port.cc:110] oneDNN custom operations are on. You may see slightly different numerical results due to floating-point round-off errors from different computation orders. To turn them off, set the environment variable `TF_ENABLE_ONEDNN_OPTS=0`.\n",
      "2023-10-27 17:35:47.017951: I tensorflow/tsl/cuda/cudart_stub.cc:28] Could not find cuda drivers on your machine, GPU will not be used.\n",
      "2023-10-27 17:35:51.746355: I tensorflow/tsl/cuda/cudart_stub.cc:28] Could not find cuda drivers on your machine, GPU will not be used.\n",
      "2023-10-27 17:35:51.773753: I tensorflow/core/platform/cpu_feature_guard.cc:182] This TensorFlow binary is optimized to use available CPU instructions in performance-critical operations.\n",
      "To enable the following instructions: AVX2 AVX512F AVX512_VNNI FMA, in other operations, rebuild TensorFlow with the appropriate compiler flags.\n",
      "2023-10-27 17:35:57.503699: W tensorflow/compiler/tf2tensorrt/utils/py_utils.cc:38] TF-TRT Warning: Could not find TensorRT\n"
     ]
    }
   ],
   "source": [
    "import tensorflow as tf\n",
    "import keras\n",
    "import pandas\n",
    "import cv2\n",
    "from tensorflow.keras.applications.vgg16 import VGG16\n",
    "from tensorflow.keras.applications.resnet50 import preprocess_input\n",
    "from tensorflow import expand_dims"
   ]
  },
  {
   "cell_type": "code",
   "execution_count": 3,
   "id": "7f3e8708-f87c-49cc-93fa-6ad3047ff6dc",
   "metadata": {
    "tags": []
   },
   "outputs": [],
   "source": [
    "vgg16 = VGG16(include_top=False, weights='imagenet', input_shape=(224,224, 3), pooling='avg')"
   ]
  },
  {
   "cell_type": "code",
   "execution_count": 4,
   "id": "bbafa12d-7f35-4153-9c46-d9136b044dbf",
   "metadata": {
    "tags": []
   },
   "outputs": [],
   "source": [
    "import pickle\n",
    "ls = pickle.load(open('extracted_features_hed_images.pkl', 'rb'))"
   ]
  },
  {
   "cell_type": "code",
   "execution_count": 5,
   "id": "5791a053-18ef-4d16-a4be-8d4f88d80d31",
   "metadata": {
    "tags": []
   },
   "outputs": [],
   "source": [
    "def preprocess(img):\n",
    "    image = cv2.imread(img)\n",
    "    image = cv2.resize(image,(224, 224))\n",
    "    exp_image = expand_dims(image, axis=0)\n",
    "    preprocessed_image = preprocess_input(exp_image)\n",
    "    return preprocessed_image"
   ]
  },
  {
   "cell_type": "code",
   "execution_count": 19,
   "id": "84d745fa-7a59-42ec-8aa0-c0d02f67e1b5",
   "metadata": {},
   "outputs": [
    {
     "name": "stderr",
     "output_type": "stream",
     "text": [
      "100%|██████████| 2960/2960 [12:57<00:00,  3.81it/s]\n"
     ]
    }
   ],
   "source": [
    "i='skirt'\n",
    "for files in tqdm(os.listdir('hed_images/{}/'.format(i))):\n",
    "    image=preprocess('hed_images/{}/'.format(i) + files)\n",
    "    features = vgg16.predict(image, verbose=False).flatten()\n",
    "    ls.append((features, files.split('.')[0]))\n",
    "    gc.collect()"
   ]
  },
  {
   "cell_type": "code",
   "execution_count": 20,
   "id": "d394122e-66b0-47a7-a9a6-59c11bbf4269",
   "metadata": {},
   "outputs": [],
   "source": [
    "import pickle\n",
    "pickle.dump(ls, open('extracted_features_hed_images.pkl', 'wb'))"
   ]
  },
  {
   "cell_type": "code",
   "execution_count": 21,
   "id": "d69c5681-e1bb-4371-a07c-cb841d1992cd",
   "metadata": {
    "tags": []
   },
   "outputs": [
    {
     "data": {
      "text/plain": [
       "['extracted_features_hed_images.joblib']"
      ]
     },
     "execution_count": 21,
     "metadata": {},
     "output_type": "execute_result"
    }
   ],
   "source": [
    "import joblib\n",
    "joblib.dump(ls, 'extracted_features_hed_images.joblib')"
   ]
  },
  {
   "cell_type": "code",
   "execution_count": 22,
   "id": "330af4a6-c227-4d79-bf6c-db3a89ee7031",
   "metadata": {
    "tags": []
   },
   "outputs": [
    {
     "data": {
      "text/plain": [
       "55995"
      ]
     },
     "execution_count": 22,
     "metadata": {},
     "output_type": "execute_result"
    }
   ],
   "source": [
    "len(ls)"
   ]
  },
  {
   "cell_type": "code",
   "execution_count": null,
   "id": "4b644b60-0c1b-4aa5-bb0f-8c45738d79f4",
   "metadata": {
    "tags": []
   },
   "outputs": [],
   "source": [
    "ls[0]"
   ]
  },
  {
   "cell_type": "code",
   "execution_count": null,
   "id": "60e0de10-0bb0-4be5-9f45-3dac0b9df9e8",
   "metadata": {},
   "outputs": [],
   "source": []
  }
 ],
 "metadata": {
  "kernelspec": {
   "display_name": "Python 3 (ipykernel)",
   "language": "python",
   "name": "python3"
  },
  "language_info": {
   "codemirror_mode": {
    "name": "ipython",
    "version": 3
   },
   "file_extension": ".py",
   "mimetype": "text/x-python",
   "name": "python",
   "nbconvert_exporter": "python",
   "pygments_lexer": "ipython3",
   "version": "3.8.17"
  }
 },
 "nbformat": 4,
 "nbformat_minor": 5
}
